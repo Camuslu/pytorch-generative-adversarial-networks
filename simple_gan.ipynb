{
 "cells": [
  {
   "cell_type": "code",
   "execution_count": 1,
   "metadata": {
    "collapsed": true
   },
   "outputs": [],
   "source": [
    "#!/usr/bin/env python\n",
    "\n",
    "# Generative Adversarial Networks (GAN) example in PyTorch.\n",
    "# See related blog post at https://medium.com/@devnag/generative-adversarial-networks-gans-in-50-lines-of-code-pytorch-e81b79659e3f#.sch4xgsa9\n",
    "import numpy as np\n",
    "import torch\n",
    "import torch.nn as nn\n",
    "import torch.nn.functional as F\n",
    "import torch.optim as optim\n",
    "from torch.autograd import Variable"
   ]
  },
  {
   "cell_type": "code",
   "execution_count": 2,
   "metadata": {
    "collapsed": true
   },
   "outputs": [],
   "source": [
    "import matplotlib.pyplot as plt\n",
    "%matplotlib inline "
   ]
  },
  {
   "cell_type": "code",
   "execution_count": 22,
   "metadata": {
    "collapsed": true
   },
   "outputs": [],
   "source": [
    "# Data params\n",
    "data_mean = 4\n",
    "data_stddev = 1.25\n",
    "\n",
    "# Model params\n",
    "g_input_size = 1     # Random noise dimension coming into generator, per output vector\n",
    "g_hidden_size = 50   # Generator complexity\n",
    "g_output_size = 1    # size of generated output vector\n",
    "d_input_size = 1   # Minibatch size - cardinality of distributions\n",
    "d_hidden_size = 50   # Discriminator complexity\n",
    "d_output_size = 1    # Single dimension for 'real' vs. 'fake'\n",
    "minibatch_size = d_input_size\n",
    "\n",
    "d_learning_rate = 2e-4  # 2e-4\n",
    "g_learning_rate = 2e-4\n",
    "optim_betas = (0.9, 0.999) #  ?\n",
    "num_epochs = 30000\n",
    "print_interval = 200\n",
    "d_steps = 1  # 'k' steps in the original GAN paper. Can put the discriminator on higher training freq than generator\n",
    "g_steps = 1"
   ]
  },
  {
   "cell_type": "code",
   "execution_count": null,
   "metadata": {
    "collapsed": true
   },
   "outputs": [],
   "source": []
  },
  {
   "cell_type": "code",
   "execution_count": 19,
   "metadata": {},
   "outputs": [
    {
     "name": "stdout",
     "output_type": "stream",
     "text": [
      "Using data [Raw data]\n"
     ]
    }
   ],
   "source": [
    "# ### Uncomment only one of these\n",
    "(name, preprocess, d_input_func) = (\"Raw data\", lambda data: data, lambda x: x)\n",
    "#(name, preprocess, d_input_func) = (\"Data and variances\", lambda data: decorate_with_diffs(data, 2.0), lambda x: x * 2)\n",
    "\n",
    "print(\"Using data [%s]\" % (name))"
   ]
  },
  {
   "cell_type": "code",
   "execution_count": 3,
   "metadata": {
    "collapsed": true
   },
   "outputs": [],
   "source": [
    "# ##### DATA: Target data and generator input data\n",
    "\n",
    "def get_distribution_sampler(mu, sigma):\n",
    "    return lambda n: torch.Tensor(np.random.normal(mu, sigma, (1, n)))  # Gaussian\n",
    "\n",
    "def get_generator_input_sampler():\n",
    "    return lambda m, n: torch.rand(m, n)  # Uniform-dist data into generator, _NOT_ Gaussian"
   ]
  },
  {
   "cell_type": "markdown",
   "metadata": {},
   "source": [
    "### The real data distribution"
   ]
  },
  {
   "cell_type": "code",
   "execution_count": 4,
   "metadata": {},
   "outputs": [
    {
     "data": {
      "text/plain": [
       "(array([   1.,    1.,    3.,    6.,    7.,   23.,   37.,   71.,   85.,\n",
       "         103.,  120.,  145.,  113.,   95.,   82.,   51.,   31.,   15.,\n",
       "           9.,    2.]),\n",
       " array([-0.6223197 , -0.21207006,  0.19817958,  0.60842922,  1.01867886,\n",
       "         1.42892849,  1.83917813,  2.24942777,  2.65967741,  3.06992705,\n",
       "         3.48017669,  3.89042633,  4.30067596,  4.7109256 ,  5.12117524,\n",
       "         5.53142488,  5.94167452,  6.35192416,  6.7621738 ,  7.17242343,\n",
       "         7.58267307]),\n",
       " <a list of 20 Patch objects>)"
      ]
     },
     "execution_count": 4,
     "metadata": {},
     "output_type": "execute_result"
    },
    {
     "data": {
      "image/png": "[encoded data removed]",
      "text/plain": [
       "<matplotlib.figure.Figure at 0x117fcb2b0>"
      ]
     },
     "metadata": {},
     "output_type": "display_data"
    }
   ],
   "source": [
    "data_sampler = get_distribution_sampler(4, 1.25)\n",
    "plt.hist(data_sampler(1000).numpy()[0], bins=20)"
   ]
  },
  {
   "cell_type": "code",
   "execution_count": 52,
   "metadata": {},
   "outputs": [],
   "source": [
    "ddd = Variable(torch.Tensor(data_sampler(50).t()))\n",
    "y_ = Variable(torch.Tensor(np.zeros((50,1))))\n",
    "fifty_by_two = torch.cat([ddd,y_],1) #torch.FloatTensor of size 50x2"
   ]
  },
  {
   "cell_type": "markdown",
   "metadata": {},
   "source": [
    "### The gen <span style=\"color:red\">noise</span>  distribution"
   ]
  },
  {
   "cell_type": "code",
   "execution_count": 5,
   "metadata": {},
   "outputs": [
    {
     "data": {
      "text/plain": [
       "(array([ 46.,  49.,  38.,  41.,  49.,  50.,  55.,  59.,  40.,  45.,  62.,\n",
       "         40.,  48.,  53.,  58.,  65.,  57.,  54.,  45.,  46.]),\n",
       " array([  5.34415245e-04,   5.04927635e-02,   1.00451112e-01,\n",
       "          1.50409460e-01,   2.00367808e-01,   2.50326157e-01,\n",
       "          3.00284505e-01,   3.50242853e-01,   4.00201201e-01,\n",
       "          4.50159550e-01,   5.00117898e-01,   5.50076246e-01,\n",
       "          6.00034595e-01,   6.49992943e-01,   6.99951291e-01,\n",
       "          7.49909639e-01,   7.99867988e-01,   8.49826336e-01,\n",
       "          8.99784684e-01,   9.49743032e-01,   9.99701381e-01]),\n",
       " <a list of 20 Patch objects>)"
      ]
     },
     "execution_count": 5,
     "metadata": {},
     "output_type": "execute_result"
    },
    {
     "data": {
      "image/png": "[encoded data removed]",
      "text/plain": [
       "<matplotlib.figure.Figure at 0x117ff2160>"
      ]
     },
     "metadata": {},
     "output_type": "display_data"
    }
   ],
   "source": [
    "gen_sampler = get_generator_input_sampler()\n",
    "plt.hist(gen_sampler(1000,1).numpy(),bins=20)"
   ]
  },
  {
   "cell_type": "code",
   "execution_count": 17,
   "metadata": {
    "collapsed": true
   },
   "outputs": [],
   "source": [
    "# ##### MODELS: Generator model and discriminator model\n",
    "\n",
    "class Generator(nn.Module):\n",
    "    def __init__(self, input_size, hidden_size, output_size):\n",
    "        super(Generator, self).__init__()\n",
    "        self.map1 = nn.Linear(input_size, hidden_size)\n",
    "        self.map2 = nn.Linear(hidden_size, hidden_size)\n",
    "        self.map3 = nn.Linear(hidden_size, output_size)\n",
    "\n",
    "    def forward(self, x):\n",
    "        x = F.elu(self.map1(x))\n",
    "        x = F.sigmoid(self.map2(x))\n",
    "        return self.map3(x)\n",
    "\n",
    "class Discriminator(nn.Module):\n",
    "    def __init__(self, input_size, hidden_size, output_size):\n",
    "        super(Discriminator, self).__init__()\n",
    "        self.map1 = nn.Linear(input_size, hidden_size)\n",
    "        self.map2 = nn.Linear(hidden_size, hidden_size)\n",
    "        self.map3 = nn.Linear(hidden_size, output_size)\n",
    "\n",
    "    def forward(self, x):\n",
    "        x = F.elu(self.map1(x))\n",
    "        x = F.elu(self.map2(x))\n",
    "        return F.sigmoid(self.map3(x))"
   ]
  },
  {
   "cell_type": "code",
   "execution_count": 6,
   "metadata": {
    "collapsed": true
   },
   "outputs": [],
   "source": [
    "def extract(v):\n",
    "    return v.data.storage().tolist()\n",
    "\n",
    "def stats(d):\n",
    "    return [np.mean(d), np.std(d)]\n",
    "\n",
    "def decorate_with_diffs(data, exponent):\n",
    "    mean = torch.mean(data.data, 1, keepdim=True)\n",
    "    mean_broadcast = torch.mul(torch.ones(data.size()), mean.tolist()[0][0])\n",
    "    diffs = torch.pow(data - Variable(mean_broadcast), exponent)\n",
    "    return torch.cat([data, diffs], 1)"
   ]
  },
  {
   "cell_type": "markdown",
   "metadata": {},
   "source": [
    "# understanding the above 3 fns, esp. decorate_with_diffs()"
   ]
  },
  {
   "cell_type": "code",
   "execution_count": 18,
   "metadata": {},
   "outputs": [
    {
     "name": "stdout",
     "output_type": "stream",
     "text": [
      "[1.0, 2.0, 3.0, 4.0, 5.0, 6.0]\n"
     ]
    }
   ],
   "source": [
    "print (extract(Variable(torch.FloatTensor([[1, 2, 3], [4, 5, 6]]))))"
   ]
  },
  {
   "cell_type": "code",
   "execution_count": 19,
   "metadata": {},
   "outputs": [
    {
     "name": "stdout",
     "output_type": "stream",
     "text": [
      "[3.5, 1.707825127659933]\n"
     ]
    }
   ],
   "source": [
    "print (stats([[1, 2, 3], [4, 5, 6]]))"
   ]
  },
  {
   "cell_type": "code",
   "execution_count": 7,
   "metadata": {},
   "outputs": [
    {
     "data": {
      "text/plain": [
       "Variable containing:\n",
       "-1.0997  0.6125\n",
       " 1.5411 -0.4024\n",
       " 1.3758 -1.5379\n",
       "-0.1244  0.5653\n",
       "[torch.FloatTensor of size 4x2]"
      ]
     },
     "execution_count": 7,
     "metadata": {},
     "output_type": "execute_result"
    }
   ],
   "source": [
    "a = Variable(torch.randn(4, 2))\n",
    "a"
   ]
  },
  {
   "cell_type": "code",
   "execution_count": 8,
   "metadata": {},
   "outputs": [
    {
     "data": {
      "text/plain": [
       "\n",
       "-0.2436\n",
       " 0.5693\n",
       "-0.0810\n",
       " 0.2204\n",
       "[torch.FloatTensor of size 4x1]"
      ]
     },
     "execution_count": 8,
     "metadata": {},
     "output_type": "execute_result"
    }
   ],
   "source": [
    "mean = torch.mean(a.data, 1, keepdim=True)\n",
    "mean"
   ]
  },
  {
   "cell_type": "code",
   "execution_count": 9,
   "metadata": {},
   "outputs": [
    {
     "data": {
      "text/plain": [
       "\n",
       "-0.2436 -0.2436\n",
       "-0.2436 -0.2436\n",
       "-0.2436 -0.2436\n",
       "-0.2436 -0.2436\n",
       "[torch.FloatTensor of size 4x2]"
      ]
     },
     "execution_count": 9,
     "metadata": {},
     "output_type": "execute_result"
    }
   ],
   "source": [
    "mean_broadcast = torch.mul(torch.ones(a.size()), mean.tolist()[0][0])\n",
    "mean_broadcast"
   ]
  },
  {
   "cell_type": "code",
   "execution_count": 10,
   "metadata": {},
   "outputs": [
    {
     "data": {
      "text/plain": [
       "Variable containing:\n",
       "-0.8561  0.8561\n",
       " 1.7846 -0.1588\n",
       " 1.6193 -1.2943\n",
       " 0.1192  0.8089\n",
       "[torch.FloatTensor of size 4x2]"
      ]
     },
     "execution_count": 10,
     "metadata": {},
     "output_type": "execute_result"
    }
   ],
   "source": [
    "exponent = 1\n",
    "diffs = torch.pow(a - Variable(mean_broadcast), exponent)\n",
    "diffs"
   ]
  },
  {
   "cell_type": "code",
   "execution_count": 13,
   "metadata": {},
   "outputs": [
    {
     "data": {
      "text/plain": [
       "Variable containing:\n",
       "-1.0997  0.6125 -0.8561  0.8561\n",
       " 1.5411 -0.4024  1.7846 -0.1588\n",
       " 1.3758 -1.5379  1.6193 -1.2943\n",
       "-0.1244  0.5653  0.1192  0.8089\n",
       "[torch.FloatTensor of size 4x4]"
      ]
     },
     "execution_count": 13,
     "metadata": {},
     "output_type": "execute_result"
    }
   ],
   "source": [
    "torch.cat([a, diffs], 1)"
   ]
  },
  {
   "cell_type": "code",
   "execution_count": 34,
   "metadata": {},
   "outputs": [],
   "source": [
    "d_sampler = get_distribution_sampler(data_mean, data_stddev)\n",
    "gi_sampler = get_generator_input_sampler()\n",
    "G = Generator(input_size=g_input_size, hidden_size=g_hidden_size, output_size=g_output_size)\n",
    "D = Discriminator(input_size=d_input_func(d_input_size), hidden_size=d_hidden_size, output_size=d_output_size)\n",
    "criterion = nn.BCELoss()  # Binary cross entropy: http://pytorch.org/docs/nn.html#bceloss\n",
    "d_optimizer = optim.Adam(D.parameters(), lr=d_learning_rate, betas=optim_betas)\n",
    "g_optimizer = optim.Adam(G.parameters(), lr=g_learning_rate, betas=optim_betas)"
   ]
  },
  {
   "cell_type": "code",
   "execution_count": 20,
   "metadata": {},
   "outputs": [
    {
     "name": "stdout",
     "output_type": "stream",
     "text": [
      "minibatch_size = 1 \n"
     ]
    }
   ],
   "source": [
    "print ('minibatch_size =',minibatch_size, '')"
   ]
  },
  {
   "cell_type": "code",
   "execution_count": 115,
   "metadata": {
    "collapsed": true
   },
   "outputs": [],
   "source": [
    "G_mean = [0] * (num_epochs)\n",
    "G_std = [0] * (num_epochs)"
   ]
  },
  {
   "cell_type": "code",
   "execution_count": 126,
   "metadata": {
    "collapsed": true
   },
   "outputs": [],
   "source": [
    "for epoch in range(num_epochs):\n",
    "    for d_index in range(d_steps):\n",
    "        # 1. Train D on real+fake\n",
    "        D.zero_grad()\n",
    "\n",
    "        #  1A: Train D on real\n",
    "        d_real_data = Variable(d_sampler(d_input_size)) \n",
    "        d_real_decision = D(preprocess(d_real_data))\n",
    "        d_real_error = criterion(d_real_decision, Variable(torch.ones(1)))  # ones = true\n",
    "        d_real_error.backward() # compute/store gradients, but don't change params\n",
    "\n",
    "        #  1B: Train D on fake\n",
    "        d_gen_input = Variable(gi_sampler(minibatch_size, g_input_size))\n",
    "        d_fake_data = G(d_gen_input).detach()  # detach to avoid training G on these labels\n",
    "        d_fake_decision = D(preprocess(d_fake_data.t()))\n",
    "        d_fake_error = criterion(d_fake_decision, Variable(torch.zeros(1)))  # zeros = fake\n",
    "        d_fake_error.backward()\n",
    "        d_optimizer.step()     # Only optimizes D's parameters; changes based on stored gradients from backward()\n",
    "\n",
    "    for g_index in range(g_steps):\n",
    "        # 2. Train G on D's response (but DO NOT train D on these labels)\n",
    "        G.zero_grad()\n",
    "\n",
    "        gen_input = Variable(gi_sampler(minibatch_size, g_input_size))\n",
    "        g_fake_data = G(gen_input)\n",
    "        dg_fake_decision = D(preprocess(g_fake_data.t()))\n",
    "        g_error = criterion(dg_fake_decision, Variable(torch.ones(1)))  # we want to fool, so pretend it's all genuine\n",
    "\n",
    "        g_error.backward()\n",
    "        g_optimizer.step()  # Only optimizes G's parameters\n",
    "        \n",
    "    G_mean [epoch] = stats(extract(d_fake_data))[0]\n",
    "    G_std[epoch] = stats(extract(d_fake_data))[1]\n",
    "    \n",
    "    if epoch % print_interval == 0:\n",
    "        print(\"%s: D: %s/%s G: %s (Real: %s, Fake: %s) \" % (epoch,\n",
    "                                                            extract(d_real_error)[0],\n",
    "                                                            extract(d_fake_error)[0],\n",
    "                                                            extract(g_error)[0],\n",
    "                                                            stats(extract(d_real_data)),\n",
    "                                                            stats(extract(d_fake_data))))\n",
    "        "
   ]
  },
  {
   "cell_type": "markdown",
   "metadata": {},
   "source": [
    "### the mean and std of fake data converge to the true distribution over iter ! :)"
   ]
  },
  {
   "cell_type": "code",
   "execution_count": 185,
   "metadata": {},
   "outputs": [
    {
     "data": {
      "text/plain": [
       "Text(0.5,1,'mean on fake')"
      ]
     },
     "execution_count": 185,
     "metadata": {},
     "output_type": "execute_result"
    },
    {
     "data": {
      "image/png": "[encoded data removed]",
      "text/plain": [
       "<matplotlib.figure.Figure at 0x117164518>"
      ]
     },
     "metadata": {},
     "output_type": "display_data"
    }
   ],
   "source": [
    "plt.scatter(range(1000),G_mean[:1000])\n",
    "plt.title('mean on fake')"
   ]
  },
  {
   "cell_type": "code",
   "execution_count": 184,
   "metadata": {},
   "outputs": [
    {
     "data": {
      "text/plain": [
       "Text(0.5,1,'std on fake')"
      ]
     },
     "execution_count": 184,
     "metadata": {},
     "output_type": "execute_result"
    },
    {
     "data": {
      "image/png": "[encoded data removed]",
      "text/plain": [
       "<matplotlib.figure.Figure at 0x116f986d8>"
      ]
     },
     "metadata": {},
     "output_type": "display_data"
    }
   ],
   "source": [
    "plt.scatter(range(1000),G_std[:1000])\n",
    "plt.title('std on fake')"
   ]
  },
  {
   "cell_type": "code",
   "execution_count": 134,
   "metadata": {},
   "outputs": [
    {
     "data": {
      "text/plain": [
       "1.121775"
      ]
     },
     "execution_count": 134,
     "metadata": {},
     "output_type": "execute_result"
    }
   ],
   "source": [
    "d_gen_input = Variable(gi_sampler(100, g_input_size))\n",
    "d_fake_data = G(d_gen_input).detach()  #\n",
    "np.std(d_fake_data.t().data.numpy()[0])"
   ]
  },
  {
   "cell_type": "markdown",
   "metadata": {},
   "source": [
    "## a minibatch comparison between real and fake data after GAN trainining"
   ]
  },
  {
   "cell_type": "code",
   "execution_count": 106,
   "metadata": {},
   "outputs": [
    {
     "data": {
      "text/plain": [
       "(array([  8.,   3.,   4.,   4.,   8.,   8.,  10.,  11.,  11.,  33.]),\n",
       " array([ 1.21355176,  1.63902409,  2.06449642,  2.48996875,  2.91544108,\n",
       "         3.34091341,  3.76638575,  4.19185808,  4.61733041,  5.04280274,\n",
       "         5.46827507]),\n",
       " <a list of 10 Patch objects>)"
      ]
     },
     "execution_count": 106,
     "metadata": {},
     "output_type": "execute_result"
    },
    {
     "data": {
      "image/png": "[encoded data removed]",
      "text/plain": [
       "<matplotlib.figure.Figure at 0x1164dc668>"
      ]
     },
     "metadata": {},
     "output_type": "display_data"
    }
   ],
   "source": [
    "d_real_data = Variable(d_sampler(d_input_size)) \n",
    "d_gen_input = Variable(gi_sampler(minibatch_size, g_input_size))\n",
    "d_fake_data = G(d_gen_input).detach() \n",
    "plt.hist(d_real_data.data.numpy()[0], alpha=0.5, label='real')\n",
    "plt.hist(d_fake_data.t().data.numpy()[0],alpha=0.5, label='fake')\n"
   ]
  },
  {
   "cell_type": "markdown",
   "metadata": {},
   "source": [
    "## Let's now try GAN on a data distribution with 2 modes:"
   ]
  },
  {
   "cell_type": "code",
   "execution_count": 54,
   "metadata": {
    "collapsed": true
   },
   "outputs": [],
   "source": [
    "G_mean = [0] * (num_epochs)\n",
    "G_std = [0] * (num_epochs)\n",
    "# Data params\n",
    "data_mean1 = 4\n",
    "data_mean2 = 10\n",
    "data_stddev = 1.25\n",
    "\n",
    "# Model params\n",
    "g_input_size = 1     # Random noise dimension coming into generator, per output vector\n",
    "g_hidden_size = 100   # Generator complexity\n",
    "g_output_size = 1    # size of generated output vector\n",
    "d_input_size = 1   # Minibatch size - cardinality of distributions\n",
    "d_hidden_size = 100   # Discriminator complexity\n",
    "d_output_size = 1    # Single dimension for 'real' vs. 'fake'\n",
    "minibatch_size = d_input_size\n",
    "\n",
    "d_learning_rate = 2e-4  # 2e-4\n",
    "g_learning_rate = 2e-4\n",
    "optim_betas = (0.9, 0.999) #  ?\n",
    "num_epochs = 5000\n",
    "print_interval = 200\n",
    "d_steps = 1  # 'k' steps in the original GAN paper. Can put the discriminator on higher training freq than generator\n",
    "g_steps = 1"
   ]
  },
  {
   "cell_type": "code",
   "execution_count": 55,
   "metadata": {
    "collapsed": true
   },
   "outputs": [],
   "source": [
    "d_sampler1 = get_distribution_sampler(data_mean1, data_stddev)\n",
    "d_sampler2 = get_distribution_sampler(data_mean2, data_stddev)\n",
    "gi_sampler = get_generator_input_sampler()\n",
    "G = Generator(input_size=g_input_size, hidden_size=g_hidden_size, output_size=g_output_size)\n",
    "D = Discriminator(input_size=d_input_func(d_input_size), hidden_size=d_hidden_size, output_size=d_output_size)\n",
    "criterion = nn.BCELoss()  # Binary cross entropy: http://pytorch.org/docs/nn.html#bceloss\n",
    "d_optimizer = optim.Adam(D.parameters(), lr=d_learning_rate, betas=optim_betas)\n",
    "g_optimizer = optim.Adam(G.parameters(), lr=g_learning_rate, betas=optim_betas)"
   ]
  },
  {
   "cell_type": "code",
   "execution_count": 199,
   "metadata": {},
   "outputs": [
    {
     "name": "stderr",
     "output_type": "stream",
     "text": [
      "/anaconda3/lib/python3.6/site-packages/torch/nn/functional.py:1168: UserWarning: Using a target size (torch.Size([1])) that is different to the input size (torch.Size([1, 1])) is deprecated. Please ensure they have the same size.\n",
      "  \"Please ensure they have the same size.\".format(target.size(), input.size()))\n"
     ]
    },
    {
     "name": "stdout",
     "output_type": "stream",
     "text": [
      "0: D: 1.233513593673706/0.6410353779792786 G: 0.7371582388877869 (Real: [6.9746486365795137, 3.3026643517246956], Fake: [0.3740467891097069, 0.00064067660253644626]) \n",
      "200: D: 0.0021541654132306576/0.6415621042251587 G: 0.8124486804008484 (Real: [7.1001580476760866, 3.3232368223264341], Fake: [0.87012571334838862, 0.011072296537847049]) \n",
      "400: D: 0.01674630679190159/0.08369474112987518 G: 2.5970120429992676 (Real: [7.0475778847932817, 3.2858861800528212], Fake: [0.91639260709285741, 0.0093857501352422809]) \n",
      "600: D: 0.0016902657225728035/0.03659990429878235 G: 3.330387830734253 (Real: [6.8253358232975003, 3.0859955442678864], Fake: [0.43343013763427735, 0.0096613257732387995]) \n",
      "800: D: 0.0023223881144076586/0.06422552466392517 G: 2.741546154022217 (Real: [7.1804334998130797, 3.247174340154853], Fake: [-0.097972439602017403, 0.032593808562840464]) \n",
      "1000: D: 1.6689438780304044e-05/0.020730216056108475 G: 3.883105993270874 (Real: [7.0895178225636482, 3.3646766302084288], Fake: [-0.01744952317327261, 0.053980940242841474]) \n",
      "1200: D: 2.264978093080572e-06/0.005088480655103922 G: 5.1130051612854 (Real: [6.853163257539272, 3.1935708392636535], Fake: [0.42443686068058012, 0.082751340017362729]) \n",
      "1400: D: -1.000088900582341e-12/0.007911873050034046 G: 4.766720294952393 (Real: [6.8887802559137343, 3.2871151750485761], Fake: [0.41048255607485773, 0.1160605758048506]) \n",
      "1600: D: -1.000088900582341e-12/0.0024825530126690865 G: 5.594692707061768 (Real: [7.0318330872058867, 3.3522804954948024], Fake: [-0.099710869528353216, 0.19021801600341778]) \n",
      "1800: D: -1.000088900582341e-12/0.002680107718333602 G: 5.5384440422058105 (Real: [6.8516342103481289, 3.1359019539755622], Fake: [-0.20568510919809341, 0.29689148437060392]) \n",
      "2000: D: -1.000088900582341e-12/0.0027179010212421417 G: 5.810275077819824 (Real: [7.109091641902924, 3.2375923939331135], Fake: [-0.21246084433048965, 0.54973396231319049]) \n",
      "2200: D: 3.385600939509459e-05/0.011236065998673439 G: 5.658437252044678 (Real: [6.9402709281444546, 3.1999631331741298], Fake: [-0.57020755842328075, 1.2166687485358174]) \n",
      "2400: D: 2.181553645641543e-05/0.018002621829509735 G: 3.2971129417419434 (Real: [6.9555378496646885, 3.2289390143314511], Fake: [-0.26473024010658264, 2.171867544550683]) \n",
      "2600: D: 0.0003500597376842052/0.002222537761554122 G: 6.636673927307129 (Real: [7.0991202992200853, 3.2650534758500003], Fake: [0.067620813250541686, 2.7746256766706274]) \n",
      "2800: D: 0.0006268200231716037/0.0009272865136153996 G: 5.817143440246582 (Real: [6.7949105918407442, 3.1633244948246975], Fake: [0.20681912779808045, 3.0609750871793677]) \n",
      "3000: D: 7.617763913003728e-05/0.02702617086470127 G: 6.455286979675293 (Real: [7.0400331151485442, 3.3813014731798368], Fake: [0.0056150087714195249, 3.4173517454815761]) \n",
      "3200: D: 4.184333374723792e-05/0.0005101492861285806 G: 11.251825332641602 (Real: [6.8551113688945771, 3.4352499806278085], Fake: [0.50337343677878377, 3.0937340304878056]) \n",
      "3400: D: 9.143770148511976e-05/3.1865503842709586e-05 G: 10.888056755065918 (Real: [7.0354276561737059, 3.189334574184933], Fake: [0.38837229207158086, 3.061308189716283]) \n",
      "3600: D: 1.4424426808545832e-05/0.00039205566281452775 G: 11.254165649414062 (Real: [6.9734082615375517, 3.3662202046619338], Fake: [-0.4711433179676533, 2.6956990641575702]) \n",
      "3800: D: 2.1338690203265287e-05/1.4313670362753328e-05 G: 9.814634323120117 (Real: [6.8902129089832309, 3.299751782839047], Fake: [0.80846660055220132, 2.5726680520627796]) \n",
      "4000: D: 1.3113106433593202e-05/3.4096337913069874e-05 G: 8.66755199432373 (Real: [7.0794922614097597, 3.4221475129971735], Fake: [0.57712422803044316, 2.4271113984562929]) \n",
      "4200: D: 4.76838204122032e-06/6.223578384378925e-05 G: 8.223275184631348 (Real: [7.1478634965419765, 3.4076787803961728], Fake: [0.17674186639487743, 2.3604389403091486]) \n",
      "4400: D: 9.298366421717219e-06/0.00035764629137702286 G: 9.451658248901367 (Real: [7.0259141492843629, 3.3258680243069887], Fake: [0.61563952945172784, 1.9218606237502591]) \n",
      "4600: D: 5.960481303191045e-06/0.000134934569359757 G: 9.006738662719727 (Real: [7.0704174137115476, 3.2671081189395497], Fake: [0.4948510544002056, 2.0109348221958148]) \n",
      "4800: D: 9.775208127393853e-06/0.00011482078116387129 G: 9.807409286499023 (Real: [7.0079836267232896, 3.1602815477722763], Fake: [0.24606777131557464, 1.8316922802196778]) \n"
     ]
    }
   ],
   "source": [
    "for epoch in range(num_epochs):\n",
    "    for d_index in range(d_steps):\n",
    "        # 1. Train D on real+fake\n",
    "        D.zero_grad()\n",
    "\n",
    "        #  1A: Train D on real\n",
    "        d_real_data = Variable(torch.cat((d_sampler1(d_input_size//2),d_sampler2(d_input_size//2)),dim=1)) \n",
    "        d_real_decision = D(preprocess(d_real_data))\n",
    "        d_real_error = criterion(d_real_decision, Variable(torch.ones(1)))  # ones = true\n",
    "        d_real_error.backward() # compute/store gradients, but don't change params\n",
    "\n",
    "        #  1B: Train D on fake\n",
    "        d_gen_input = Variable(gi_sampler(minibatch_size, g_input_size))\n",
    "        d_fake_data = G(d_gen_input).detach()  # detach to avoid training G on these labels\n",
    "        d_fake_decision = D(preprocess(d_fake_data.t()))\n",
    "        d_fake_error = criterion(d_fake_decision, Variable(torch.zeros(1)))  # zeros = fake\n",
    "        d_fake_error.backward()\n",
    "        d_optimizer.step()     # Only optimizes D's parameters; changes based on stored gradients from backward()\n",
    "\n",
    "    for g_index in range(g_steps):\n",
    "        # 2. Train G on D's response (but DO NOT train D on these labels)\n",
    "        G.zero_grad()\n",
    "\n",
    "        gen_input = Variable(gi_sampler(minibatch_size, g_input_size))\n",
    "        g_fake_data = G(gen_input)\n",
    "        dg_fake_decision = D(preprocess(g_fake_data.t()))\n",
    "        g_error = criterion(dg_fake_decision, Variable(torch.ones(1)))  # we want to fool, so pretend it's all genuine\n",
    "        #g_error = - criterion(dg_fake_decision, Variable(torch.zeros(1)))  # the minimax loss fn\n",
    "\n",
    "        g_error.backward()\n",
    "        g_optimizer.step()  # Only optimizes G's parameters\n",
    "        \n",
    "    G_mean [epoch] = stats(extract(d_fake_data))[0]\n",
    "    G_std[epoch] = stats(extract(d_fake_data))[1]\n",
    "    \n",
    "    if epoch % print_interval == 0:\n",
    "        print(\"%s: D: %s/%s G: %s (Real: %s, Fake: %s) \" % (epoch,\n",
    "                                                            extract(d_real_error)[0],\n",
    "                                                            extract(d_fake_error)[0],\n",
    "                                                            extract(g_error)[0],\n",
    "                                                            stats(extract(d_real_data)),\n",
    "                                                            stats(extract(d_fake_data))))\n",
    "        "
   ]
  },
  {
   "cell_type": "markdown",
   "metadata": {},
   "source": [
    "### bi-modal real distribution gives GAN a <span style=\"color:red\">bad</span> fit"
   ]
  },
  {
   "cell_type": "code",
   "execution_count": 200,
   "metadata": {},
   "outputs": [
    {
     "data": {
      "text/plain": [
       "(array([ 220.,  126.,  105.,   68.,   58.,   60.,   69.,   92.,   85.,  117.]),\n",
       " array([-2.32009768, -1.76593652, -1.21177535, -0.65761418, -0.10345302,\n",
       "         0.45070815,  1.00486932,  1.55903049,  2.11319165,  2.66735282,\n",
       "         3.22151399]),\n",
       " <a list of 10 Patch objects>)"
      ]
     },
     "execution_count": 200,
     "metadata": {},
     "output_type": "execute_result"
    },
    {
     "data": {
      "image/png": "[encoded data removed]",
      "text/plain": [
       "<matplotlib.figure.Figure at 0x11671f898>"
      ]
     },
     "metadata": {},
     "output_type": "display_data"
    }
   ],
   "source": [
    "d_real_data = Variable(torch.cat((d_sampler1(1000//2),d_sampler2(1000//2)),dim=1)) \n",
    "d_gen_input = Variable(gi_sampler(1000, g_input_size))\n",
    "d_fake_data = G(d_gen_input).detach() \n",
    "plt.hist(d_real_data.data.numpy()[0], alpha=0.5, label='real')\n",
    "plt.hist(d_fake_data.t().data.numpy()[0],alpha=0.5, label='fake')\n"
   ]
  },
  {
   "cell_type": "markdown",
   "metadata": {},
   "source": [
    "### mean of GAN fake data:\n",
    "### with G trying to maximize D thinking fake are true"
   ]
  },
  {
   "cell_type": "code",
   "execution_count": 189,
   "metadata": {},
   "outputs": [
    {
     "data": {
      "text/plain": [
       "Text(0.5,1,'mean on fake')"
      ]
     },
     "execution_count": 189,
     "metadata": {},
     "output_type": "execute_result"
    },
    {
     "data": {
      "image/png": "[encoded data removed]",
      "text/plain": [
       "<matplotlib.figure.Figure at 0x117442be0>"
      ]
     },
     "metadata": {},
     "output_type": "display_data"
    }
   ],
   "source": [
    "plt.scatter(range(1000),G_mean[:1000])\n",
    "plt.title('mean on fake')"
   ]
  },
  {
   "cell_type": "markdown",
   "metadata": {},
   "source": [
    "### mean of GAN fake data:\n",
    "### with G trying to minimize D thinking fake are fake"
   ]
  },
  {
   "cell_type": "code",
   "execution_count": 196,
   "metadata": {},
   "outputs": [
    {
     "data": {
      "text/plain": [
       "Text(0.5,1,'mean on fake')"
      ]
     },
     "execution_count": 196,
     "metadata": {},
     "output_type": "execute_result"
    },
    {
     "data": {
      "image/png": "[encoded data removed]",
      "text/plain": [
       "<matplotlib.figure.Figure at 0x1168f05c0>"
      ]
     },
     "metadata": {},
     "output_type": "display_data"
    }
   ],
   "source": [
    "plt.scatter(range(1000),G_mean[:1000])\n",
    "plt.title('mean on fake')"
   ]
  },
  {
   "cell_type": "markdown",
   "metadata": {
    "collapsed": true
   },
   "source": [
    "## Next we try conditional GAN, where we add dimensions of the class labels to both z and x"
   ]
  },
  {
   "cell_type": "markdown",
   "metadata": {},
   "source": [
    "### key difference is we add  <span style=\"color:red\">batch_size</span> and  <span style=\"color:red\">classes</span>"
   ]
  },
  {
   "cell_type": "code",
   "execution_count": 208,
   "metadata": {
    "collapsed": true
   },
   "outputs": [],
   "source": [
    "# Data params\n",
    "data_mean1 = 4\n",
    "data_mean2 = 8\n",
    "data_stddev = 2\n",
    "classes = 2\n",
    "\n",
    "# Model params\n",
    "noise_dim = 1   #new\n",
    "g_input_size = noise_dim + classes    # Random noise dimension coming into generator, per output vector\n",
    "g_hidden_size = 100   # Generator complexity\n",
    "g_output_size = 1    # size of generated output vector\n",
    "d_input_size = 1 + classes\n",
    "d_hidden_size = 100   # Discriminator complexity\n",
    "d_output_size = 1    # Single dimension for 'real' vs. 'fake'\n",
    "minibatch_size = d_input_size\n",
    "\n",
    "d_learning_rate = 2e-4  # 2e-4\n",
    "g_learning_rate = 2e-4\n",
    "optim_betas = (0.9, 0.999) #  ?\n",
    "num_epochs = 5000\n",
    "print_interval = 200\n",
    "d_steps = 1  # 'k' steps in the original GAN paper. Can put the discriminator on higher training freq than generator\n",
    "g_steps = 1\n",
    "batch_size = 100"
   ]
  },
  {
   "cell_type": "code",
   "execution_count": 209,
   "metadata": {
    "collapsed": true
   },
   "outputs": [],
   "source": [
    "d_sampler1 = get_distribution_sampler(data_mean1, data_stddev)\n",
    "d_sampler2 = get_distribution_sampler(data_mean2, data_stddev)\n",
    "gi_sampler = get_generator_input_sampler()\n",
    "G = Generator(input_size=g_input_size, hidden_size=g_hidden_size, output_size=g_output_size)\n",
    "D = Discriminator(input_size=d_input_func(d_input_size), hidden_size=d_hidden_size, output_size=d_output_size)\n",
    "criterion = nn.BCELoss()  # Binary cross entropy: http://pytorch.org/docs/nn.html#bceloss\n",
    "d_optimizer = optim.Adam(D.parameters(), lr=d_learning_rate, betas=optim_betas)\n",
    "g_optimizer = optim.Adam(G.parameters(), lr=g_learning_rate, betas=optim_betas)"
   ]
  },
  {
   "cell_type": "code",
   "execution_count": 210,
   "metadata": {},
   "outputs": [],
   "source": [
    "# d_real_data = Variable(torch.cat((d_sampler1(batch_size//2),d_sampler2(batch_size//2)),dim=1).t())\n",
    "# y = torch.Tensor(np.zeros((batch_size,2)))\n",
    "# y[0:50, 0] = 1\n",
    "# y[50:100,1] = 1\n",
    "# y = Variable(y)\n",
    "# d_real_data = torch.cat((d_real_data,y),dim = 1)\n",
    "# d_real_decision = D(preprocess(d_real_data))\n",
    "# d_real_decision"
   ]
  },
  {
   "cell_type": "code",
   "execution_count": 211,
   "metadata": {},
   "outputs": [],
   "source": [
    "# d_gen_input = Variable(gi_sampler(batch_size, noise_dim))\n",
    "# d_gen_input = torch.cat((d_gen_input,y),dim = 1)\n",
    "# # plt.hist(G(d_gen_input).data.numpy())\n",
    "# d_fake_data = G(d_gen_input).detach()\n",
    "# extract(d_fake_data)[:batch_size//2]"
   ]
  },
  {
   "cell_type": "code",
   "execution_count": 212,
   "metadata": {
    "collapsed": true
   },
   "outputs": [],
   "source": [
    "G_mean1 = [0] * (num_epochs)\n",
    "G_std1 = [0] * (num_epochs)\n",
    "G_mean2 = [0] * (num_epochs)\n",
    "G_std2 = [0] * (num_epochs)"
   ]
  },
  {
   "cell_type": "code",
   "execution_count": 213,
   "metadata": {},
   "outputs": [
    {
     "name": "stderr",
     "output_type": "stream",
     "text": [
      "/anaconda3/lib/python3.6/site-packages/torch/nn/functional.py:1168: UserWarning: Using a target size (torch.Size([100])) that is different to the input size (torch.Size([100, 1])) is deprecated. Please ensure they have the same size.\n",
      "  \"Please ensure they have the same size.\".format(target.size(), input.size()))\n"
     ]
    },
    {
     "name": "stdout",
     "output_type": "stream",
     "text": [
      "0: D_error: 0.8002294898033142/0.7161825299263 G_error: 0.6697580814361572 (Fake1_stat: [0.16668700873851777, 0.0011120469825129768], Fake2_stat: [0.19176239728927613, 0.00070676252686206439]) \n",
      "200: D_error: 0.7818872928619385/0.5641982555389404 G_error: 0.937325119972229 (Fake1_stat: [5.3016502666473393, 0.10303544930718292], Fake2_stat: [5.1332050228118895, 0.11628638262243593]) \n",
      "400: D_error: 0.6281898617744446/0.5575540065765381 G_error: 0.8526409864425659 (Fake1_stat: [7.3534895801544193, 0.095251387461274734], Fake2_stat: [7.2951818180084231, 0.1186646987991932]) \n",
      "600: D_error: 0.5500155091285706/0.4885380268096924 G_error: 0.9699310064315796 (Fake1_stat: [5.578627977371216, 0.18911677227061158], Fake2_stat: [6.1102145957946776, 0.1088540387476722]) \n",
      "800: D_error: 0.8367720246315002/1.1189606189727783 G_error: 0.43791821599006653 (Fake1_stat: [0.32812181062996387, 0.18629147244303532], Fake2_stat: [7.1391159248352052, 0.13005636862543807]) \n",
      "1000: D_error: 0.9325944781303406/0.6475808620452881 G_error: 0.7681982517242432 (Fake1_stat: [4.6777340364456172, 0.80504588853976156], Fake2_stat: [10.473798313140868, 0.058383755106663777]) \n",
      "1200: D_error: 0.7266837954521179/0.7061997056007385 G_error: 0.68515944480896 (Fake1_stat: [3.4526297712326048, 0.55071507213995052], Fake2_stat: [8.123454666137695, 0.052093933906609498]) \n",
      "1400: D_error: 0.6920561194419861/0.6636790633201599 G_error: 0.7312542200088501 (Fake1_stat: [4.1519774341583249, 0.53592132370387979], Fake2_stat: [8.170878353118896, 0.049081355223366124]) \n",
      "1600: D_error: 0.6889764666557312/0.635159969329834 G_error: 0.7568721175193787 (Fake1_stat: [3.4229837322235106, 0.55251666907125863], Fake2_stat: [8.504244594573974, 0.075842517035109761]) \n",
      "1800: D_error: 0.6032734513282776/0.6345687508583069 G_error: 0.7682899236679077 (Fake1_stat: [3.7607307815551758, 0.87931642296147572], Fake2_stat: [8.7827680206298826, 0.073829922070379167]) \n",
      "2000: D_error: 0.6198777556419373/0.606106698513031 G_error: 0.7878289818763733 (Fake1_stat: [4.4972669267654419, 1.0817668663033235], Fake2_stat: [8.3905319976806645, 0.076961033737629678]) \n",
      "2200: D_error: 0.6453428864479065/0.6394866704940796 G_error: 0.7621501684188843 (Fake1_stat: [4.1069750142097474, 1.6022359808806257], Fake2_stat: [8.390755481719971, 0.098400051434633096]) \n",
      "2400: D_error: 0.6948797106742859/0.6439550518989563 G_error: 0.7929151654243469 (Fake1_stat: [3.8267037042975427, 2.2764487099382724], Fake2_stat: [8.0538527488708489, 0.110282340589251]) \n",
      "2600: D_error: 0.5789743065834045/0.6737494468688965 G_error: 0.7405327558517456 (Fake1_stat: [4.3460914623737334, 2.1967544503315706], Fake2_stat: [7.5669530677795409, 0.081287255681779427]) \n",
      "2800: D_error: 0.6279190182685852/0.5727245807647705 G_error: 0.779632568359375 (Fake1_stat: [4.495216948017478, 2.6950181542364353], Fake2_stat: [7.756119213104248, 0.12886566326908275]) \n",
      "3000: D_error: 0.5337600111961365/0.6055760383605957 G_error: 0.8343003988265991 (Fake1_stat: [4.7067506343126295, 2.0080514762281343], Fake2_stat: [7.8402508926391601, 0.2150730078343597]) \n",
      "3200: D_error: 0.6599301099777222/0.6606895923614502 G_error: 0.7760377526283264 (Fake1_stat: [3.4374548836052417, 2.5512046534651462], Fake2_stat: [8.006676702499389, 1.0049128180575444]) \n",
      "3400: D_error: 0.7240820527076721/0.6910621523857117 G_error: 0.7442895770072937 (Fake1_stat: [5.9053550457954405, 3.0241305223385249], Fake2_stat: [7.5972947120666507, 2.664570821877394]) \n",
      "3600: D_error: 0.6571600437164307/0.6755654215812683 G_error: 0.7154247164726257 (Fake1_stat: [5.0070317184925077, 2.280241171712535], Fake2_stat: [7.4314008617401122, 2.196966106610331]) \n",
      "3800: D_error: 0.6903129816055298/0.6637598276138306 G_error: 0.7271188497543335 (Fake1_stat: [3.9845582103729247, 1.1489802370392912], Fake2_stat: [8.1166107463836674, 1.628996054166471]) \n",
      "4000: D_error: 0.6459935903549194/0.6619622111320496 G_error: 0.7384490370750427 (Fake1_stat: [3.9000362873077394, 1.3585237975423883], Fake2_stat: [7.4750493431091307, 2.0117947971857126]) \n",
      "4200: D_error: 0.6800059676170349/0.6898620128631592 G_error: 0.8212910294532776 (Fake1_stat: [4.5217241871356961, 2.7013539913650555], Fake2_stat: [8.6023169422149657, 2.3134873061682173]) \n",
      "4400: D_error: 0.6915275454521179/0.6840052604675293 G_error: 0.700676679611206 (Fake1_stat: [4.1380033946037296, 1.5309185845109148], Fake2_stat: [8.2403363323211671, 1.7984332544728072]) \n",
      "4600: D_error: 0.684266209602356/0.6725526452064514 G_error: 0.7089686393737793 (Fake1_stat: [4.0044284105300907, 1.3094405745599225], Fake2_stat: [8.6803854560852045, 1.8158894351855666]) \n",
      "4800: D_error: 0.657881498336792/0.7083284258842468 G_error: 0.6775255799293518 (Fake1_stat: [2.8612354224175216, 1.9890984340759157], Fake2_stat: [7.7074384975433352, 2.1862617387010794]) \n"
     ]
    }
   ],
   "source": [
    "for epoch in range(num_epochs):\n",
    "    for d_index in range(d_steps):\n",
    "        \n",
    "        #the labels \n",
    "        y = torch.Tensor(np.zeros((batch_size,2)))\n",
    "        y[0:50, 0] = 1 #one-hot encoding\n",
    "        y[50:100,1] = 1\n",
    "        y = Variable(y)\n",
    "        \n",
    "        # 1. Train D on real+fake\n",
    "        D.zero_grad()\n",
    "\n",
    "        #  1A: Train D on real\n",
    "        d_real_data = Variable(torch.cat((d_sampler1(batch_size//2),d_sampler2(batch_size//2)),dim=1).t())\n",
    "        d_real_data = torch.cat((d_real_data,y),dim = 1)\n",
    "        d_real_decision = D(preprocess(d_real_data))\n",
    "        d_real_error = criterion(d_real_decision, Variable(torch.ones(batch_size)))  # ones = true\n",
    "        d_real_error.backward() # compute/store gradients, but don't change params\n",
    "        \n",
    "        #  1B: Train D on fake\n",
    "        d_gen_input = Variable(gi_sampler(batch_size, noise_dim))\n",
    "        d_gen_input = torch.cat((d_gen_input,y),1)\n",
    "        d_fake_data = G(d_gen_input).detach()  # detach to avoid training G on these labels\n",
    "        d_cond_fake_data = torch.cat((d_fake_data, y), dim=1)  #add the labels again\n",
    "        d_fake_decision = D(preprocess(d_cond_fake_data))\n",
    "        d_fake_error = criterion(d_fake_decision, Variable(torch.zeros(batch_size)))  # zeros = fake\n",
    "        d_fake_error.backward()\n",
    "        d_optimizer.step()     # Only optimizes D's parameters; changes based on stored gradients from backward()\n",
    "\n",
    "    for g_index in range(g_steps):\n",
    "        # 2. Train G on D's response (but DO NOT train D on these labels)\n",
    "        G.zero_grad()\n",
    "\n",
    "        gen_input = Variable(gi_sampler(batch_size, noise_dim))\n",
    "        gen_input = torch.cat((gen_input, y),1)  #one-hot key encoding                 \n",
    "        g_fake_data = G(gen_input)\n",
    "        cond_fake_data = torch.cat((g_fake_data, y), dim=1) #one-hot\n",
    "        dg_fake_decision = D(preprocess(cond_fake_data))\n",
    "        g_error = criterion(dg_fake_decision, Variable(torch.ones(batch_size)))  # we want to fool, so pretend it's all genuine\n",
    "        #g_error = - criterion(dg_fake_decision, Variable(torch.zeros(1)))  # the minimax loss fn, doesnt' work in practice\n",
    "\n",
    "        g_error.backward()\n",
    "        g_optimizer.step()  # Only optimizes G's parameters\n",
    "        \n",
    "    G_mean1 [epoch] = stats(extract(d_fake_data)[:batch_size//2])[0]  #d_fake_data is batch_size x 1\n",
    "    G_std1 [epoch] = stats(extract(d_fake_data)[:batch_size//2])[1]\n",
    "    G_mean2 [epoch] = stats(extract(d_fake_data)[batch_size//2:])[0]\n",
    "    G_std2 [epoch] = stats(extract(d_fake_data)[batch_size//2:])[1]\n",
    "    \n",
    "    if epoch % print_interval == 0:\n",
    "        print(\"%s: D_error: %s/%s G_error: %s (Fake1_stat: %s, Fake2_stat: %s) \" % (epoch,\n",
    "                                                            extract(d_real_error)[0],\n",
    "                                                            extract(d_fake_error)[0],\n",
    "                                                            extract(g_error)[0],\n",
    "                                                            stats(extract(d_fake_data)[:batch_size//2]),\n",
    "                                                            stats(extract(d_fake_data)[batch_size//2:])) )"
   ]
  },
  {
   "cell_type": "markdown",
   "metadata": {},
   "source": [
    "### use class conditional GAN helps the Generator to differentiate between 2 classes\n",
    "### this can be clearly seen in the mean of 2 groups of fake data over iterations\n",
    "### initially the 2 groups of fake data have same mean, but then they <span style=\"color:red\">diverge!</span>"
   ]
  },
  {
   "cell_type": "code",
   "execution_count": 215,
   "metadata": {},
   "outputs": [
    {
     "data": {
      "text/plain": [
       "<matplotlib.legend.Legend at 0x11d500d68>"
      ]
     },
     "execution_count": 215,
     "metadata": {},
     "output_type": "execute_result"
    },
    {
     "data": {
      "image/png": "[encoded data removed]",
      "text/plain": [
       "<matplotlib.figure.Figure at 0x11d4caf28>"
      ]
     },
     "metadata": {},
     "output_type": "display_data"
    }
   ],
   "source": [
    "plt.scatter(range(num_epochs),G_mean1, label = 'real mean = 4')\n",
    "plt.scatter(range(num_epochs),G_mean2, label = 'real mean = 10')\n",
    "plt.legend()"
   ]
  },
  {
   "cell_type": "markdown",
   "metadata": {},
   "source": [
    "### real vs fake data"
   ]
  },
  {
   "cell_type": "code",
   "execution_count": 235,
   "metadata": {},
   "outputs": [
    {
     "data": {
      "text/plain": [
       "<matplotlib.legend.Legend at 0x11f324b38>"
      ]
     },
     "execution_count": 235,
     "metadata": {},
     "output_type": "execute_result"
    },
    {
     "data": {
      "image/png": "[encoded data removed]",
      "text/plain": [
       "<matplotlib.figure.Figure at 0x11f1a68d0>"
      ]
     },
     "metadata": {},
     "output_type": "display_data"
    }
   ],
   "source": [
    "d_real_data = Variable(torch.cat((d_sampler1(batch_size//2),d_sampler2(batch_size//2)),dim=1).t())\n",
    "d_gen_input = Variable(gi_sampler(batch_size, noise_dim))\n",
    "d_gen_input = torch.cat((d_gen_input,y),1)\n",
    "d_fake_data = G(d_gen_input).detach() \n",
    "plt.hist(d_real_data.t().data.numpy()[0], alpha=0.5, label='real',bins=20)\n",
    "plt.hist(d_fake_data.t().data.numpy()[0],alpha=0.5, label='fake',bins=20)\n",
    "plt.legend()\n"
   ]
  },
  {
   "cell_type": "markdown",
   "metadata": {},
   "source": [
    "### generator tends to only generate data at the modes..."
   ]
  },
  {
   "cell_type": "code",
   "execution_count": 217,
   "metadata": {},
   "outputs": [
    {
     "data": {
      "text/plain": [
       "array([[  6.53956461,   3.12827229,   3.47013307,   2.48666763,\n",
       "          5.46774292,   2.01648593,   2.09684825,   6.84108543,\n",
       "          2.55475831,   5.25800562,   2.10198569,   6.5283227 ,\n",
       "          3.92599893,   3.83765244,   2.18179178,   2.78112292,\n",
       "          2.34228802,   3.79891825,   6.68838882,   1.64929903,\n",
       "          6.80301285,   3.99558783,   4.20680714,   0.99752003,\n",
       "          4.63154697,   4.26748753,   1.98585463,   2.97410727,\n",
       "          2.99522328,   4.53212643,   5.42330742,   6.21435833,\n",
       "          5.09812355,   4.19124889,   4.46619797,   3.83016253,\n",
       "          2.83361602,   2.47617316,   6.71303082,   3.39060116,\n",
       "          2.84204626,   2.22345638,   5.43011284,   1.12441516,\n",
       "          6.39122152,   3.45335722,   1.69607317,   1.20689869,\n",
       "          2.91798949,   3.05504036,   6.41871881,   3.99173284,\n",
       "          5.20423269,   6.69814587,   7.95310259,   7.8901782 ,\n",
       "          8.4844141 ,   4.26375866,   9.19951916,   7.99129009,\n",
       "          8.66865444,   7.12755489,   7.85663939,  10.11929417,\n",
       "          7.53851318,   6.15000772,   8.18838406,   6.53582191,\n",
       "          9.49520397,   6.79088879,   6.48042774,   6.41367912,\n",
       "          5.34748077,   8.66965199,   4.67183161,   7.06057262,\n",
       "          7.03006506,   7.16196442,  10.1552372 ,   6.88626289,\n",
       "          8.53050995,   7.68697071,   6.56778955,   4.04762793,\n",
       "          8.20441532,   4.75156116,   8.58480453,   9.55060005,\n",
       "          7.55615139,   4.66317654,   5.20607138,   7.49973583,\n",
       "         10.07329273,   7.1755085 ,   8.03932858,   8.06893444,\n",
       "          9.64059544,   6.53745842,   6.29282379,  10.08120346]], dtype=float32)"
      ]
     },
     "execution_count": 217,
     "metadata": {},
     "output_type": "execute_result"
    }
   ],
   "source": [
    "d_fake_data.t().data.numpy()"
   ]
  },
  {
   "cell_type": "code",
   "execution_count": null,
   "metadata": {
    "collapsed": true
   },
   "outputs": [],
   "source": []
  }
 ],
 "metadata": {
  "kernelspec": {
   "display_name": "Python 3",
   "language": "python",
   "name": "python3"
  },
  "language_info": {
   "codemirror_mode": {
    "name": "ipython",
    "version": 3
   },
   "file_extension": ".py",
   "mimetype": "text/x-python",
   "name": "python",
   "nbconvert_exporter": "python",
   "pygments_lexer": "ipython3",
   "version": "3.6.3"
  }
 },
 "nbformat": 4,
 "nbformat_minor": 2
}
